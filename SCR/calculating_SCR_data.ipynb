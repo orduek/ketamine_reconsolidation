{
 "cells": [
  {
   "cell_type": "markdown",
   "metadata": {},
   "source": [
    "## Read SCR files and compute changes and correlation with brain activity/connectivity"
   ]
  },
  {
   "cell_type": "code",
   "execution_count": null,
   "metadata": {},
   "outputs": [],
   "source": [
    "import pandas as pd\n",
    "import numpy as np\n",
    "import seaborn as sns\n",
    "import matplotlib.pyplot as plt\n",
    "import glob\n",
    "import scipy"
   ]
  },
  {
   "cell_type": "code",
   "execution_count": null,
   "metadata": {},
   "outputs": [],
   "source": [
    "ses1_files = glob.glob('/media/Data/Lab_Projects/KPE_PTSD_Project/behavioral/results/sub-*_ses-1.csv')\n",
    "ses2_files = glob.glob('/media/Data/Lab_Projects/KPE_PTSD_Project/behavioral/results/sub-*_ses-2.csv')\n",
    "ses3_files = glob.glob('/media/Data/Lab_Projects/KPE_PTSD_Project/behavioral/results/sub-*_ses-3.csv')\n",
    "ses4_files = glob.glob('/media/Data/Lab_Projects/KPE_PTSD_Project/behavioral/results/sub-*_ses-4.csv')\n",
    "ses1_files.sort()\n",
    "ses2_files.sort()\n",
    "ses3_files.sort()\n",
    "ses4_files.sort()\n"
   ]
  },
  {
   "cell_type": "code",
   "execution_count": null,
   "metadata": {},
   "outputs": [],
   "source": [
    "def generateSCR_data(files):\n",
    "    # takes scr calculated files (from neurokit2.ipynb) and generates data frame\n",
    "    subjects = []\n",
    "    delta1 = []\n",
    "    delta2 = []\n",
    "    delta3 = []\n",
    "    trauma1 = []\n",
    "    relax1 = []\n",
    "    trauma1_scr = []\n",
    "    trauma1_time = []\n",
    "    for file in files:\n",
    "        sub = 'KPE' + file.split('sub-')[1].split('_ses')[0]\n",
    "        # read file\n",
    "        df = pd.read_csv(file, sep = '\\t')\n",
    "        # calculate contrast trauma - relax\n",
    "        peakT = np.array(df['EDA_Peak_Amplitude'][df.Condition=='trauma'])\n",
    "        peakR = np.array(df['EDA_Peak_Amplitude'][df.Condition=='relax'] )\n",
    "        peakSCR_T = np.array(df['SCR_Peak_Amplitude'][df.Condition=='trauma'])\n",
    "        peakSCR_Time = np.array(df['SCR_Peak_Amplitude_Time'][df.Condition=='trauma'])\n",
    "        diff = peakT - peakR\n",
    "        subjects.append(sub)\n",
    "        delta1.append(diff[0])\n",
    "        delta2.append(diff[1])\n",
    "        delta3.append(diff[2])\n",
    "        trauma1.append(peakT[0])\n",
    "        relax1.append(peakR[0])\n",
    "        trauma1_scr.append(peakSCR_T[0])\n",
    "        trauma1_time.append(peakSCR_Time[0])\n",
    "    data = pd.DataFrame({'scr_id':subjects, 'peakTrauma1': trauma1, 'peakRelax': relax1, 'T_R1': delta1,\n",
    "                        'T_R2':delta2, 'T_R3': delta3, 'trauma1_scrMean': trauma1_scr,\n",
    "                        'trauma1_timeSCR': trauma1_time})\n",
    "    return data"
   ]
  },
  {
   "cell_type": "code",
   "execution_count": null,
   "metadata": {},
   "outputs": [],
   "source": [
    "data1 = generateSCR_data(ses1_files)\n",
    "data2 = generateSCR_data(ses2_files)\n",
    "data3 = generateSCR_data(ses3_files)\n",
    "data4 = generateSCR_data(ses4_files)"
   ]
  },
  {
   "cell_type": "code",
   "execution_count": null,
   "metadata": {},
   "outputs": [],
   "source": [
    "# create dataset that only takes trauma peak\n",
    "data2 = data2.rename(columns={'peakTrauma1': 'peakTrauma1_ses2'})\n",
    "data3 = data3.rename(columns={'peakTrauma1': 'peakTrauma1_ses3'})\n",
    "data4 = data4.rename(columns={'peakTrauma1': 'peakTrauma1_ses4'})"
   ]
  },
  {
   "cell_type": "code",
   "execution_count": null,
   "metadata": {},
   "outputs": [],
   "source": [
    "data1"
   ]
  },
  {
   "cell_type": "code",
   "execution_count": null,
   "metadata": {},
   "outputs": [],
   "source": [
    "# combine data frames but leave NaN if nothing is availble. \n",
    "dataSessions = pd.merge(data1[['scr_id','peakTrauma1']], data2[['scr_id','peakTrauma1_ses2']], how='outer')\n",
    "dataSessions = pd.merge(dataSessions, data3[['scr_id', 'peakTrauma1_ses3']], how='outer')\n",
    "dataSessions = pd.merge(dataSessions, data4[['scr_id', 'peakTrauma1_ses4']], how='outer')\n",
    "dataSessions"
   ]
  },
  {
   "cell_type": "code",
   "execution_count": null,
   "metadata": {},
   "outputs": [],
   "source": [
    "medication_cond = pd.read_csv('/home/or/kpe_task_analysis/task_based_analysis/kpe_sub_condition.csv')\n",
    "subject_list = np.array(medication_cond.scr_id)\n",
    "condition_label = np.array(medication_cond.med_cond)\n",
    "\n",
    "group_label = list(map(int, condition_label))\n",
    "medication_cond['groupIdx'] = medication_cond.med_cond\n",
    "medication_cond = medication_cond.replace(to_replace={'med_cond': {0.0:'midazolam', 1.0:'ketamine'}})"
   ]
  },
  {
   "cell_type": "code",
   "execution_count": null,
   "metadata": {},
   "outputs": [],
   "source": [
    "\n",
    "datAll = pd.merge(medication_cond, dataSessions)\n",
    "datAll['trauma1_1'] = datAll.peakTrauma1 - datAll.peakTrauma1\n",
    "datAll['trauma2_1'] = datAll.peakTrauma1_ses2 - datAll.peakTrauma1\n",
    "datAll['trauma3_1'] = datAll.peakTrauma1_ses3 - datAll.peakTrauma1\n",
    "datAll['trauma4_1'] = datAll.peakTrauma1_ses4 - datAll.peakTrauma1\n",
    "datAll"
   ]
  },
  {
   "cell_type": "code",
   "execution_count": null,
   "metadata": {},
   "outputs": [],
   "source": [
    "sns.boxplot(y = 'trauma4_1', x= 'med_cond', data=datAll)"
   ]
  },
  {
   "cell_type": "markdown",
   "metadata": {},
   "source": [
    "## Now lets run Bayesian model of the three data points "
   ]
  },
  {
   "cell_type": "code",
   "execution_count": null,
   "metadata": {},
   "outputs": [],
   "source": [
    "# first - lets melt the data frame\n",
    "dfAll_melt = datAll.melt(id_vars=['scr_id','groupIdx'],value_vars=['trauma1_1','trauma2_1','trauma3_1','trauma4_1'],\n",
    "                         var_name='time', value_name='SCRDiff')\n",
    "sns.boxplot('time','SCRDiff', hue='groupIdx',data=dfAll_melt)"
   ]
  },
  {
   "cell_type": "code",
   "execution_count": null,
   "metadata": {},
   "outputs": [],
   "source": [
    "# examine each subjects chagne using plotly\n",
    "import plotly.express as px\n",
    "px.line(x='time', y='SCRDiff', facet_col='groupIdx',\n",
    "          data_frame=dfAll_melt, color='scr_id')"
   ]
  },
  {
   "cell_type": "code",
   "execution_count": null,
   "metadata": {},
   "outputs": [],
   "source": [
    "import pymc3 as pm\n",
    "from pymc3.glm import GLM\n",
    "\n",
    "with pm.Model() as model_glm:\n",
    "    GLM.from_formula('SCRDiff ~ groupIdx* time', dfAll_melt)\n",
    "    trace = pm.sample(draws=4000, tune=2000)"
   ]
  },
  {
   "cell_type": "code",
   "execution_count": null,
   "metadata": {},
   "outputs": [],
   "source": [
    "pm.summary(trace, credible_interval=.95)"
   ]
  },
  {
   "cell_type": "code",
   "execution_count": null,
   "metadata": {},
   "outputs": [],
   "source": [
    "# create time index\n",
    "dfAll_melt.time = pd.Categorical(dfAll_melt.time)\n",
    "timeIDX = dfAll_melt.time.cat.codes.values\n",
    "print(timeIDX)"
   ]
  },
  {
   "cell_type": "code",
   "execution_count": null,
   "metadata": {},
   "outputs": [],
   "source": [
    "# run a bit more complicated model (similar to the one ran in Symptoms calculation)\n",
    "with pm.Model() as hierarchical_model:\n",
    "   \n",
    "    a = pm.Normal('a', mu=0, sigma=10)#, shape=4)\n",
    "    # Intercept for each timepoint, distributed around group mean mu_a\n",
    "    b = pm.Normal('b', mu=0, sigma=10, shape=4) # for each time point\n",
    "    \n",
    "    # set another prior to the group (i..e medication condition)\n",
    "    bMed = pm.Normal('bMed', mu=0, sigma=5)\n",
    "    # Model error\n",
    "    eps = pm.HalfCauchy('eps', 10)\n",
    "\n",
    "    y_hat = a + b[timeIDX]*timeIDX + bMed*dfAll_melt.groupIdx \n",
    "\n",
    "    # Data likelihood\n",
    "    likelihood = pm.Normal('likelihood', mu=y_hat,\n",
    "                           sigma=eps, observed=dfAll_melt.SCRDiff)\n",
    "    hierarchical_trace = pm.sample(4000, tune=3000, random_seed=1313)"
   ]
  },
  {
   "cell_type": "code",
   "execution_count": null,
   "metadata": {},
   "outputs": [],
   "source": [
    "pm.summary(hierarchical_trace, credible_interval=.95)"
   ]
  },
  {
   "cell_type": "code",
   "execution_count": null,
   "metadata": {},
   "outputs": [],
   "source": [
    "dfAll_melt['scr_id'] = dfAll_melt.scr_id.astype('category')\n",
    "sub_idx = dfAll_melt.scr_id.cat.codes.values\n",
    "n_subs = len(np.unique(dfAll_melt.scr_id))\n",
    "print(n_subs)"
   ]
  },
  {
   "cell_type": "code",
   "execution_count": null,
   "metadata": {},
   "outputs": [],
   "source": [
    "# run with subjects as random variable - reparametized\n",
    "with pm.Model() as random_model:\n",
    "   \n",
    "    \n",
    "    a = pm.Normal('a', mu=0, sigma=10)#, shape=4)\n",
    "    # Intercept for each timepoint, distributed around group mean mu_a\n",
    "    b = pm.Normal('b', mu=0, sigma=10, shape=4) # for each time point\n",
    "    \n",
    "    sigma_a = pm.Exponential('sigma_a', 1)\n",
    "    z = pm.Normal('z',mu=0, sigma=1, shape = n_subs)\n",
    "    # set another prior to the group (i..e medication condition)\n",
    "    bMed = pm.Normal('bMed', mu=0, sigma=5)\n",
    "    # Model error\n",
    "    eps = pm.HalfCauchy('eps', 10)\n",
    "\n",
    "    y_hat = a + z[sub_idx]*sigma_a + b[timeIDX]*timeIDX + bMed*dfAll_melt.groupIdx \n",
    "\n",
    "    # Data likelihood\n",
    "    likelihood = pm.Normal('likelihood', mu=y_hat,\n",
    "                           sigma=eps, observed=dfAll_melt.SCRDiff)\n",
    "    random_trace = pm.sample(4000, tune=2000, random_seed=123)"
   ]
  },
  {
   "cell_type": "code",
   "execution_count": null,
   "metadata": {},
   "outputs": [],
   "source": [
    "pm.summary(random_trace, credible_interval=.95)"
   ]
  },
  {
   "cell_type": "code",
   "execution_count": null,
   "metadata": {},
   "outputs": [],
   "source": [
    "# compare the two models to see what fit best\n",
    "pm.compare({'hierarchical': hierarchical_trace, 'glm': trace, 'random_trace': random_trace}, ic='loo')"
   ]
  },
  {
   "cell_type": "code",
   "execution_count": null,
   "metadata": {},
   "outputs": [],
   "source": [
    "data2 = data2[[\"scr_id\", \"peakTrauma1\",  \"peakRelax\", \"T_R1\", \"T_R2\", \"T_R3\"]] # pick just those values\n",
    "data2 = data2.rename(columns={\"peakTrauma1\": \"peakTrauma2\", \"peakRelax\": \"peakRelax2\",\n",
    "                              \"T_R1\": \"T_R1_2\", \n",
    "                              \"T_R2\": \"T_R2_2\", \"T_R3\": \"T_R3_2\"})\n",
    "datAll = pd.merge(datAll, data2)\n",
    "datAll"
   ]
  },
  {
   "cell_type": "code",
   "execution_count": null,
   "metadata": {},
   "outputs": [],
   "source": [
    "sns.boxplot(y = 'peakTrauma2', x= 'med_cond', data=datAll)\n",
    "scipy.stats.ttest_ind(datAll.peakTrauma2[datAll.groupIdx==0], datAll.peakTrauma2[datAll.groupIdx==1])"
   ]
  },
  {
   "cell_type": "code",
   "execution_count": null,
   "metadata": {},
   "outputs": [],
   "source": [
    "datAll['TR1_2vs1'] = datAll.T_R1_2 - datAll.T_R1 \n",
    "datAll['Trauma_2vs1'] = datAll.peakTrauma2 - datAll.peakTrauma1\n",
    "datAll['Relax_2vs1'] = datAll.peakRelax2 - datAll.peakTrauma1"
   ]
  },
  {
   "cell_type": "code",
   "execution_count": null,
   "metadata": {},
   "outputs": [],
   "source": [
    "sns.barplot(y='TR1_2vs1', x = 'med_cond', data=datAll, ci=68)\n",
    "scipy.stats.ttest_ind(datAll.TR1_2vs1[datAll.med_cond=='midazolam'], datAll.TR1_2vs1[datAll.med_cond=='ketamine'])"
   ]
  },
  {
   "cell_type": "code",
   "execution_count": null,
   "metadata": {},
   "outputs": [],
   "source": [
    "sns.stripplot(y='Trauma_2vs1', x = 'med_cond', data=datAll)\n",
    "scipy.stats.ttest_ind(datAll.Trauma_2vs1[datAll.med_cond=='midazolam'], datAll.Trauma_2vs1[datAll.med_cond=='ketamine'])"
   ]
  },
  {
   "cell_type": "code",
   "execution_count": null,
   "metadata": {},
   "outputs": [],
   "source": [
    "datAll"
   ]
  },
  {
   "cell_type": "code",
   "execution_count": null,
   "metadata": {},
   "outputs": [],
   "source": [
    "import pymc3 as pm\n",
    "from pymc3.glm import GLM\n",
    "\n",
    "with pm.Model() as model_glm:\n",
    "    GLM.from_formula('Trauma_2vs1 ~ groupIdx', datAll)\n",
    "    trace = pm.sample(draws=2000, tune=3000)"
   ]
  },
  {
   "cell_type": "code",
   "execution_count": null,
   "metadata": {},
   "outputs": [],
   "source": [
    "pm.summary(trace, credible_interval=.95).round(2)"
   ]
  },
  {
   "cell_type": "code",
   "execution_count": null,
   "metadata": {},
   "outputs": [],
   "source": [
    "# set variables\n",
    "y = 'Trauma_2vs1'\n",
    "x = 'med_cond'\n",
    "dfPlot = datAll\n",
    "ci = np.quantile(trace.groupIdx, [.025,.975])\n",
    "fig, (ax1, ax2) = plt.subplots(1,2, figsize=(3, 5),gridspec_kw={'width_ratios': [1, .2],\n",
    "                                                        'wspace':.1})\n",
    "g1 = sns.stripplot(y= y, x=x, data=dfPlot, size = 8, ax=ax1)\n",
    "sns.boxplot(y= y, x=x, data=dfPlot,  ax=ax1,\n",
    "            boxprops=dict(alpha=.3))\n",
    "g2 = sns.distplot(trace['groupIdx'], ax = ax2, vertical=True)\n",
    "ax2.vlines(x=0.1,ymin=ci[0], ymax=ci[1], color='black', \n",
    "           linewidth = 2, linestyle = \"-\")\n",
    "\n",
    "ylow = g1.get_ylim()[0] -.5 # set lower than actual lim\n",
    "yhigh = g1.get_ylim()[1]\n",
    "ax2.set_ylim(ylow, yhigh) # use first graph's limits to get the relevant for this one\n",
    "ax2.yaxis.tick_right()\n",
    "ax2.set_xticks([])\n",
    "ax2.set_ylabel(\"Difference between groups\", fontsize=14) \n",
    "ax2.yaxis.set_label_position(\"right\")\n",
    "ax1.set_ylim(ylow, yhigh)\n",
    "ax1.set_ylabel(\"Change in SCR before/after treatment\", fontsize=12)\n",
    "ax1.set_xlabel(\"Group\", fontsize=14)\n",
    "fig.savefig('SCRBeforeAfter.png', dpi=300, bbox_inches='tight')"
   ]
  },
  {
   "cell_type": "code",
   "execution_count": null,
   "metadata": {},
   "outputs": [],
   "source": [
    "g1.get_ylim()[0]"
   ]
  },
  {
   "cell_type": "code",
   "execution_count": null,
   "metadata": {},
   "outputs": [],
   "source": [
    "sns.distplot(trace['groupIdx'])\n",
    "sum(trace['groupIdx']>0) / len(trace['groupIdx'])"
   ]
  },
  {
   "cell_type": "markdown",
   "metadata": {},
   "source": [
    "## Add session 3 (30 days follow-up)"
   ]
  },
  {
   "cell_type": "code",
   "execution_count": null,
   "metadata": {
    "scrolled": true
   },
   "outputs": [],
   "source": [
    "data3 = data3[[\"scr_id\", \"peakTrauma1\",  \"peakRelax\", \"T_R1\", \"T_R2\", \"T_R3\"]] # pick just those values\n",
    "data3 = data3.rename(columns={\"peakTrauma1\": \"peakTrauma3\", \"peakRelax\": \"peakRelax3\", \"T_R1\": \"T_R1_3\", \n",
    "                              \"T_R2\": \"T_R2_3\", \"T_R3\": \"T_R3_3\"})\n",
    "datAll_3= pd.merge(datAll, data3)\n",
    "datAll_3.head()"
   ]
  },
  {
   "cell_type": "code",
   "execution_count": null,
   "metadata": {},
   "outputs": [],
   "source": [
    "datAll_3['TR1_3vs1'] = datAll_3.T_R1_3 - datAll_3.T_R1 \n",
    "datAll_3['Trauma_3vs1'] = datAll_3.peakTrauma3 - datAll_3.peakTrauma1\n",
    "datAll_3['Relax_3vs1'] = datAll_3.peakRelax3 - datAll_3.peakRelax"
   ]
  },
  {
   "cell_type": "code",
   "execution_count": null,
   "metadata": {},
   "outputs": [],
   "source": [
    "sns.boxplot(y='TR1_3vs1', x = 'med_cond', data=datAll_3)\n",
    "scipy.stats.ttest_ind(datAll_3.TR1_3vs1[datAll_3.med_cond=='midazolam'], datAll_3.TR1_3vs1[datAll_3.med_cond=='ketamine'])"
   ]
  },
  {
   "cell_type": "code",
   "execution_count": null,
   "metadata": {},
   "outputs": [],
   "source": [
    "sns.boxplot(y='Relax_3vs1', x = 'med_cond', data=datAll_3)\n",
    "scipy.stats.ttest_ind(datAll_3.Relax_3vs1[datAll_3.med_cond=='midazolam'], datAll_3.Relax_3vs1[datAll_3.med_cond=='ketamine'])"
   ]
  },
  {
   "cell_type": "code",
   "execution_count": null,
   "metadata": {},
   "outputs": [],
   "source": [
    "import dabest\n",
    "\n",
    "datAllDabest = dabest.load(data=datAll, x='med_cond', y='Trauma_2vs1', idx=('midazolam','ketamine'), ci=95)\n",
    "fig = plt.figure()\n",
    "datAllDabest.mean_diff.plot()#.savefig('Figure1.pdf', dpi=300)\n"
   ]
  },
  {
   "cell_type": "code",
   "execution_count": null,
   "metadata": {},
   "outputs": [],
   "source": [
    "datAll.to_csv('scr_deltas.csv', index=False)"
   ]
  },
  {
   "cell_type": "code",
   "execution_count": null,
   "metadata": {},
   "outputs": [],
   "source": [
    "datAll"
   ]
  },
  {
   "cell_type": "code",
   "execution_count": null,
   "metadata": {},
   "outputs": [],
   "source": [
    "dat3 = datAll_3[[\"scr_id\", \"med_cond\",\"peakTrauma1\", \"peakTrauma2\", \"peakTrauma3\"]]\n",
    "dflong = pd.melt(dat3,id_vars=['scr_id', \"med_cond\"], \n",
    "                 value_vars=[\"peakTrauma1\", \"peakTrauma2\", \"peakTrauma3\"])\n",
    "dflong"
   ]
  }
 ],
 "metadata": {
  "kernelspec": {
   "display_name": "Python 3.7.7 64-bit ('neuroAnalysis': conda)",
   "language": "python",
   "name": "python37764bitneuroanalysiscondaa23731adadc74dd9881a406adec17ad1"
  },
  "language_info": {
   "codemirror_mode": {
    "name": "ipython",
    "version": 3
   },
   "file_extension": ".py",
   "mimetype": "text/x-python",
   "name": "python",
   "nbconvert_exporter": "python",
   "pygments_lexer": "ipython3",
   "version": "3.7.7"
  }
 },
 "nbformat": 4,
 "nbformat_minor": 4
}
