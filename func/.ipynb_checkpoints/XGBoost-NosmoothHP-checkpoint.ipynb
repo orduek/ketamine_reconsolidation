{
 "cells": [
  {
   "cell_type": "markdown",
   "metadata": {
    "slideshow": {
     "slide_type": "slide"
    }
   },
   "source": [
    "# Using machine learning XGboost classifier to look for different pattern between Ketamin and Midazolam groups"
   ]
  },
  {
   "cell_type": "code",
   "execution_count": null,
   "metadata": {
    "slideshow": {
     "slide_type": "skip"
    }
   },
   "outputs": [],
   "source": [
    "# import relevant packages\n",
    "import glob\n",
    "import numpy as np\n",
    "import scipy\n",
    "import nilearn\n",
    "import nilearn.plotting\n",
    "import nilearn.input_data\n",
    "import matplotlib.pyplot as plt\n",
    "import seaborn as sns\n",
    "from xgboost import XGBClassifier\n",
    "from sklearn.model_selection import cross_val_score\n",
    "from sklearn.model_selection import StratifiedKFold\n",
    "from sklearn.model_selection import train_test_split\n",
    "from sklearn.metrics import accuracy_score"
   ]
  },
  {
   "cell_type": "markdown",
   "metadata": {
    "slideshow": {
     "slide_type": "slide"
    }
   },
   "source": [
    "## No apperant contribution to before/after treatment in general. \n",
    "- Lets look at group differences in ROIs $\\rightarrow$\n",
    "    * vmPFC\n",
    "    * Hippocampus\n",
    "    \n",
    "- We compare pattern of ROI activation in the trauma > relax contrast on the 2nd day"
   ]
  },
  {
   "cell_type": "code",
   "execution_count": null,
   "metadata": {
    "slideshow": {
     "slide_type": "skip"
    }
   },
   "outputs": [],
   "source": [
    "# compare between groups\n",
    "import pandas as pd\n",
    "medication_cond = pd.read_csv('kpe_sub_condition.csv')\n",
    "\n",
    "\n",
    "ketamine_list = list(medication_cond['scr_id'][medication_cond['med_cond']==1])\n",
    "ket_list = []\n",
    "for subject in ketamine_list:\n",
    "    \n",
    "    sub = subject.split('KPE')[1]\n",
    "    ket_list.append(sub)\n",
    "\n",
    "\n",
    "midazolam_list = list(medication_cond['scr_id'][medication_cond['med_cond']==0])\n",
    "mid_list = []\n",
    "for subject in midazolam_list:\n",
    "    \n",
    "    sub = subject.split('KPE')[1]\n",
    "    mid_list.append(sub)\n",
    "#mid_list.remove('1480')"
   ]
  },
  {
   "cell_type": "code",
   "execution_count": null,
   "metadata": {},
   "outputs": [],
   "source": [
    "print(ket_list)\n",
    "print(mid_list)"
   ]
  },
  {
   "cell_type": "code",
   "execution_count": null,
   "metadata": {},
   "outputs": [],
   "source": [
    "mid_list\n",
    "## only for 3rd session\n",
    "ket_list.remove('1315')"
   ]
  },
  {
   "cell_type": "code",
   "execution_count": null,
   "metadata": {},
   "outputs": [],
   "source": [
    "# remove subjects in session 3\n",
    "mid_list.remove('1253')\n",
    "mid_list.remove('1468')\n",
    "mid_list.remove('1480')"
   ]
  },
  {
   "cell_type": "code",
   "execution_count": null,
   "metadata": {},
   "outputs": [],
   "source": [
    "# only in 2nd session\n",
    "mid_list.remove('1578')\n",
    "# only for 3rd session\n",
    "#mid_list.remove('1253')\n",
    "#mid_list.remove('1480')"
   ]
  },
  {
   "cell_type": "code",
   "execution_count": null,
   "metadata": {
    "slideshow": {
     "slide_type": "skip"
    }
   },
   "outputs": [],
   "source": [
    "ses = '2'\n",
    "ket_func = ['/gpfs/gibbs/pi/levy_ifat/Or/kpe/results/ScriptPart_ses%s_Nosmooth/modelfit/_subject_id_%s/modelestimate/results/cope7.nii.gz'% (ses,sub) for sub in ket_list]\n",
    "mid_func = ['/gpfs/gibbs/pi/levy_ifat/Or/kpe/results/ScriptPart_ses%s_Nosmooth/modelfit/_subject_id_%s/modelestimate/results/cope7.nii.gz'% (ses,sub) for sub in mid_list]"
   ]
  },
  {
   "cell_type": "code",
   "execution_count": null,
   "metadata": {},
   "outputs": [],
   "source": [
    "# set n folds\n",
    "# In session 3 there are many NAs from Midazolam. So we set different fold than LOO (per group)\n",
    "n_folds= 7 #for 3rd session"
   ]
  },
  {
   "cell_type": "code",
   "execution_count": null,
   "metadata": {},
   "outputs": [],
   "source": [
    "mask_file = '/gpfs/gibbs/pi/levy_ifat/Or/ROI/hippocampus_association-test_z_FDR_0.01.nii.gz'\n",
    "mask_file = nilearn.image.math_img(\"a>=13\", a=mask_file)\n",
    "%matplotlib inline\n",
    "nilearn.plotting.plot_roi(mask_file)#, display_mode='x', cut_coords=[-26], annotate=False)\n",
    "masker = nilearn.input_data.NiftiMasker(mask_img=mask_file, \n",
    "                               sessions=None, smoothing_fwhm=2,\n",
    "                                        standardize=False, \n",
    "                                        detrend=False, verbose=5)"
   ]
  },
  {
   "cell_type": "code",
   "execution_count": null,
   "metadata": {
    "slideshow": {
     "slide_type": "skip"
    }
   },
   "outputs": [],
   "source": [
    "ketamine = []\n",
    "for func in ket_func:\n",
    "    print(f'Running {func}')\n",
    "    beta = masker.fit_transform(func)\n",
    "    ketamine.append(beta)\n",
    "\n",
    "midazolam = []\n",
    "for func in mid_func:\n",
    "    print(f'Running {func}')\n",
    "    beta = masker.fit_transform(func)\n",
    "    midazolam.append(beta)\n",
    "\n",
    "ketArr = np.array(ketamine)\n",
    "ketArr_reshape= np.array(ketArr).reshape(ketArr.shape[0], ketArr.shape[2])\n",
    "ketArr_reshape.shape\n",
    "\n",
    "\n",
    "midArr = np.array(midazolam)\n",
    "midArr_reshape= np.array(midArr).reshape(midArr.shape[0], midArr.shape[2])\n",
    "midArr_reshape.shape\n",
    "\n",
    "\n",
    "## Create condition labels (1 = plus, 0 = minus)\n",
    "label1 = [1] * ketArr.shape[0]\n",
    "label2 = [0] * midArr.shape[0]\n",
    "condition_label = np.concatenate([label1, label2])\n",
    "condition_label\n",
    "\n",
    "X = np.concatenate([ketArr, midArr])\n",
    "X = X.reshape(X.shape[0], midArr_reshape.shape[1])\n",
    "X.shape"
   ]
  },
  {
   "cell_type": "code",
   "execution_count": null,
   "metadata": {},
   "outputs": [],
   "source": [
    "n_folds"
   ]
  },
  {
   "cell_type": "code",
   "execution_count": null,
   "metadata": {
    "slideshow": {
     "slide_type": "slide"
    }
   },
   "outputs": [],
   "source": [
    "#from sklearn.model_selection import StratifiedKFold\n",
    "from sklearn.svm import LinearSVC\n",
    "\n",
    "from sklearn import svm\n",
    "model = XGBClassifier(n_jobs=7)\n",
    "\n",
    "## Here we use stratified K-fold with shuffling to generate different shuffling of leave one subject out\n",
    "cv = StratifiedKFold(n_splits=11, shuffle=True) # running for each subject\n"
   ]
  },
  {
   "cell_type": "code",
   "execution_count": null,
   "metadata": {},
   "outputs": [],
   "source": [
    "scores = cross_val_score(model,\n",
    "                            X,\n",
    "                            y=condition_label,\n",
    "                            cv=cv,\n",
    "                            groups=condition_label,\n",
    "                            scoring= \"roc_auc\",\n",
    "                            n_jobs=5, # set number of CPUs\n",
    "                            #verbose = 5 # set some details of the activity \n",
    "                            )"
   ]
  },
  {
   "cell_type": "markdown",
   "metadata": {
    "slideshow": {
     "slide_type": "slide"
    }
   },
   "source": [
    "## Use shuffle split to randomize and run the XGboost N times\n",
    "- This will create a distribution of estimation level \n",
    "- We can then better estimate how really its more accurate than chance\n"
   ]
  },
  {
   "cell_type": "code",
   "execution_count": null,
   "metadata": {
    "scrolled": true,
    "slideshow": {
     "slide_type": "subslide"
    }
   },
   "outputs": [],
   "source": [
    "n_iter = 1000\n",
    "rand_score = []\n",
    "for i in range(n_iter):\n",
    "    print(f' Running {i+1} iteration')\n",
    "    mean_scores = []\n",
    "    scores = cross_val_score(model,\n",
    "                            X,\n",
    "                            y=condition_label,\n",
    "                            cv=cv,\n",
    "                            groups=condition_label,\n",
    "                            scoring= \"roc_auc\",#\"f1\",#\"accuracy\",\n",
    "                            n_jobs=5, # set number of CPUs\n",
    "                            #verbose = 5 # set some details of the activity \n",
    "                            )\n",
    "    mean_scores.append(scores.mean())\n",
    "    rand_score.append(mean_scores)"
   ]
  },
  {
   "cell_type": "markdown",
   "metadata": {
    "slideshow": {
     "slide_type": "slide"
    }
   },
   "source": [
    "### Plotting area under ROC curve ditribution and printing average and standard deviation of the distribution"
   ]
  },
  {
   "cell_type": "code",
   "execution_count": null,
   "metadata": {
    "slideshow": {
     "slide_type": "fragment"
    }
   },
   "outputs": [],
   "source": [
    "rand_score = np.array(rand_score)\n",
    "print(\"Area under curve: %0.2f (+/- %0.2f)\" % (np.mean(rand_score), np.std(rand_score) * 2))\n",
    "print(f'95% CI is {np.quantile(rand_score, [0.025, 0.975])}')\n",
    "sns.distplot(rand_score)"
   ]
  },
  {
   "cell_type": "markdown",
   "metadata": {
    "slideshow": {
     "slide_type": "slide"
    }
   },
   "source": [
    "## Now we do similar thing but with vmPFC \n"
   ]
  },
  {
   "cell_type": "code",
   "execution_count": null,
   "metadata": {
    "slideshow": {
     "slide_type": "fragment"
    }
   },
   "outputs": [],
   "source": [
    "mask_file = '/gpfs/gibbs/pi/levy_ifat/Or/ROI/vmpfc_association-test_z_FDR_0.01.nii.gz'\n",
    "mask_file = nilearn.image.math_img(\"a>=2\", a=mask_file)\n",
    "%matplotlib inline\n",
    "nilearn.plotting.plot_roi(mask_file)\n",
    "masker = nilearn.input_data.NiftiMasker(mask_img=mask_file, \n",
    "                               smoothing_fwhm=1, standardize=True, \n",
    "                                        detrend=False, verbose=5)"
   ]
  },
  {
   "cell_type": "code",
   "execution_count": null,
   "metadata": {
    "slideshow": {
     "slide_type": "skip"
    }
   },
   "outputs": [],
   "source": [
    "ketamine = []\n",
    "for func in ket_func:\n",
    "    print(f'Running {func}')\n",
    "    beta = masker.fit_transform(func)\n",
    "    ketamine.append(beta)\n",
    "\n",
    "midazolam = []\n",
    "for func in mid_func:\n",
    "    print(f'Running {func}')\n",
    "    beta = masker.fit_transform(func)\n",
    "    midazolam.append(beta)\n",
    "\n",
    "ketArr = np.array(ketamine)\n",
    "ketArr_reshape= np.array(ketArr).reshape(ketArr.shape[0], ketArr.shape[2])\n",
    "ketArr_reshape.shape\n",
    "\n",
    "\n",
    "midArr = np.array(midazolam)\n",
    "midArr_reshape= np.array(midArr).reshape(midArr.shape[0], midArr.shape[2])\n",
    "midArr_reshape.shape\n",
    "\n",
    "\n",
    "## Create condition labels (1 = plus, 0 = minus)\n",
    "label1 = [1] * ketArr.shape[0]\n",
    "label2 = [0] * midArr.shape[0]\n",
    "condition_label = np.concatenate([label1, label2])\n",
    "condition_label\n",
    "\n",
    "X = np.concatenate([ketArr, midArr])\n",
    "X = X.reshape(X.shape[0], midArr_reshape.shape[1])\n",
    "X.shape"
   ]
  },
  {
   "cell_type": "code",
   "execution_count": null,
   "metadata": {},
   "outputs": [],
   "source": [
    "model = XGBClassifier(n_jobs=7, \n",
    "                      random_state=None)\n",
    "\n",
    "## Here we use stratified K-fold with shuffling to generate different shuffling of leave one subject out\n",
    "cv = StratifiedKFold(n_splits=11, shuffle=True) # running for each subject\n"
   ]
  },
  {
   "cell_type": "code",
   "execution_count": null,
   "metadata": {},
   "outputs": [],
   "source": [
    "scores = cross_val_score(model,\n",
    "                            X,\n",
    "                            y=condition_label,\n",
    "                            cv=cv,\n",
    "                            groups=condition_label,\n",
    "                            scoring= \"roc_auc\",\n",
    "                            n_jobs=5, # set number of CPUs\n",
    "                            #verbose = 5 # set some details of the activity \n",
    "                            )"
   ]
  },
  {
   "cell_type": "code",
   "execution_count": null,
   "metadata": {},
   "outputs": [],
   "source": [
    "scores"
   ]
  },
  {
   "cell_type": "code",
   "execution_count": null,
   "metadata": {
    "scrolled": true,
    "slideshow": {
     "slide_type": "skip"
    }
   },
   "outputs": [],
   "source": [
    "n_iter = 100\n",
    "rand_score = []\n",
    "mean_scores = []\n",
    "for i in range(n_iter):\n",
    "    print(f' Running {i+1} iteration')\n",
    "    mean_scores = []\n",
    "    scores = cross_val_score(model,\n",
    "                            X,\n",
    "                            y=condition_label,\n",
    "                            cv=cv,\n",
    "                            groups=condition_label,\n",
    "                            scoring= \"roc_auc\",\n",
    "                            n_jobs=8, # set number of CPUs\n",
    "                            \n",
    "                            )\n",
    "    mean_scores.append(scores.mean())\n",
    "    rand_score.append(mean_scores)"
   ]
  },
  {
   "cell_type": "code",
   "execution_count": null,
   "metadata": {
    "slideshow": {
     "slide_type": "slide"
    }
   },
   "outputs": [],
   "source": [
    "rand_score = np.array(rand_score)\n",
    "print(\"Area under curve: %0.2f (+/- %0.2f)\" % (np.mean(rand_score), np.std(rand_score) * 2))\n",
    "print(f'95% CI is {np.quantile(rand_score, [0.025, 0.975])}')\n",
    "sns.distplot(rand_score)"
   ]
  }
 ],
 "metadata": {
  "celltoolbar": "Slideshow",
  "kernelspec": {
   "display_name": "Python 3",
   "language": "python",
   "name": "python3"
  },
  "language_info": {
   "codemirror_mode": {
    "name": "ipython",
    "version": 3
   },
   "file_extension": ".py",
   "mimetype": "text/x-python",
   "name": "python",
   "nbconvert_exporter": "python",
   "pygments_lexer": "ipython3",
   "version": "3.7.7"
  }
 },
 "nbformat": 4,
 "nbformat_minor": 4
}
