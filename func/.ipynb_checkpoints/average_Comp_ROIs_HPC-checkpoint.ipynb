{
 "cells": [
  {
   "cell_type": "markdown",
   "metadata": {},
   "source": [
    "# Comparing Ketamine and Midazolam after treatment in ROIs\n",
    "- Analysis in HPC\n",
    "- focus on end of treatment\n",
    "- Amygdala\n",
    "- vmPFC\n",
    "- Hippocampus"
   ]
  },
  {
   "cell_type": "markdown",
   "metadata": {},
   "source": [
    "#### Small explanation for the code for future reference (as it is a bit messy)\n",
    "- I take all functional files of trauma vs relaxed first script first 1min\n",
    "- I mask for amygdala - run analysis per session (1,2,3) and calculate effect (using pyMC3)\n",
    "- I mask for vmPFC and do the same\n",
    "- I mask for hippocampus and do the same\n",
    "- Effect reported are amygdala and hippocampus show sig. difference in the post treatment scan. Amygdala shows effect in 30 days f/u hipocampus doesn't. vmPFC and OFC doesn't show anything."
   ]
  },
  {
   "cell_type": "code",
   "execution_count": null,
   "metadata": {},
   "outputs": [],
   "source": [
    "# import relevant packages\n",
    "import glob\n",
    "import numpy as np\n",
    "import scipy\n",
    "import nilearn\n",
    "import nilearn.image\n",
    "import nilearn.plotting\n",
    "import nilearn.input_data\n",
    "import matplotlib.pyplot as plt\n",
    "import seaborn as sns\n",
    "import pandas as pd\n",
    "import pymc3 as pm\n",
    "import arviz as az\n",
    "from pymc3.glm import GLM"
   ]
  },
  {
   "cell_type": "code",
   "execution_count": null,
   "metadata": {},
   "outputs": [],
   "source": [
    "# Set session\n",
    "ses = 3\n",
    "## Grab group\n",
    "# compare between groups\n",
    "\n",
    "medication_cond = pd.read_csv('kpe_sub_condition.csv')\n",
    "\n",
    "func_files = glob.glob('/gpfs/gibbs/pi/levy_ifat/Or/kpe/results/ScriptPart_ses%s/modelfit/_subject_id_*/modelestimate/results/cope7.nii.gz' %(ses))\n",
    "\n",
    "func_files.sort()\n",
    "len(func_files)"
   ]
  },
  {
   "cell_type": "code",
   "execution_count": null,
   "metadata": {},
   "outputs": [],
   "source": [
    "# remove 1315\n",
    "del func_files[6] #(only session 1,2)"
   ]
  },
  {
   "cell_type": "code",
   "execution_count": null,
   "metadata": {},
   "outputs": [],
   "source": [
    "## Amygdala as mask\n",
    "mask_file = '/gpfs/gibbs/pi/levy_ifat/Or/ROI/amygdala_association-test_z_FDR_0.01.nii.gz'\n",
    "mask_file = nilearn.image.math_img(\"a>=25\", a=mask_file)\n",
    "%matplotlib inline\n",
    "nilearn.plotting.plot_roi(mask_file)\n",
    "\n",
    "\n",
    "masker = nilearn.input_data.NiftiMasker(mask_img=mask_file, \n",
    "                                smoothing_fwhm=None, standardize=False,\n",
    "                                        detrend=False, verbose=9).fit()"
   ]
  },
  {
   "cell_type": "code",
   "execution_count": null,
   "metadata": {},
   "outputs": [],
   "source": [
    "\n",
    "t_arr = []\n",
    "mean_act = []\n",
    "scr_id = []\n",
    "#delayed_get_data = dask.delayed(masker.fit_transform)\n",
    "for func in func_files:\n",
    "    # get subject number\n",
    "    scr_id.append('KPE' + func.split('id_')[1].split('/')[0])\n",
    "    # get average activation\n",
    "    t_map = masker.transform(func)\n",
    "    t_arr.append(np.mean(t_map, axis=1)[0])\n",
    "    \n"
   ]
  },
  {
   "cell_type": "code",
   "execution_count": null,
   "metadata": {},
   "outputs": [],
   "source": [
    "df_ses3 = []\n",
    "df_ses3 = pd.DataFrame({'scr_id': scr_id, 'amg3': t_arr})\n",
    "df_ses3 = pd.merge(medication_cond, df_ses3)\n",
    "df_ses3 = df_ses3.rename(columns={'med_cond': 'group'})\n",
    "#df['group'] = medication_cond['med_cond']\n",
    "df_ses3 = df_ses3.replace(to_replace={'group': {0.0:'midazolam', 1.0:'ketamine'}})"
   ]
  },
  {
   "cell_type": "code",
   "execution_count": null,
   "metadata": {},
   "outputs": [],
   "source": [
    "df_ses3.groupby('group').describe(percentiles=[.025, 0.975])\n",
    "#df_ses3.groupby('group').median()"
   ]
  },
  {
   "cell_type": "code",
   "execution_count": null,
   "metadata": {},
   "outputs": [],
   "source": [
    "df_ses2 = []\n",
    "df_ses2 = pd.DataFrame({'scr_id': scr_id, 'amg2': t_arr})\n",
    "df_ses2 = pd.merge(medication_cond, df_ses2)\n",
    "df_ses2 = df_ses2.rename(columns={'med_cond': 'group'})\n",
    "#df['goup'] = medication_cond['med_cond']\n",
    "df_ses2 = df_ses2.replace(to_replace={'group': {0.0:'midazolam', 1.0:'ketamine'}})"
   ]
  },
  {
   "cell_type": "code",
   "execution_count": null,
   "metadata": {},
   "outputs": [],
   "source": [
    "df_ses2.groupby('group').describe(percentiles=[.025, 0.975])\n",
    "#df_ses2.groupby('group').median()"
   ]
  },
  {
   "cell_type": "code",
   "execution_count": null,
   "metadata": {},
   "outputs": [],
   "source": [
    "sns.set_style(\"ticks\")\n",
    "sns.boxplot('group','amg2',data=df_ses2)\n",
    "sns.stripplot('group','amg2',data=df_ses2)\n",
    "scipy.stats.ttest_ind(df_ses2.amg2[df_ses2.group=='ketamine'],\n",
    "                      df_ses2.amg2[df_ses2.group=='midazolam']\n",
    "                     )"
   ]
  },
  {
   "cell_type": "code",
   "execution_count": null,
   "metadata": {},
   "outputs": [],
   "source": [
    "df_ses1 = []\n",
    "df_ses1 = pd.DataFrame({'scr_id': scr_id, 'amg1': t_arr})\n",
    "df_ses1 = pd.merge(medication_cond, df_ses1)\n",
    "df_ses1 = df_ses1.rename(columns={'med_cond': 'group'})\n",
    "df_ses1 = df_ses1.replace(to_replace={'group': {0.0:'midazolam', 1.0:'ketamine'}})\n",
    "#df['group'] = medication_cond['med_cond']"
   ]
  },
  {
   "cell_type": "code",
   "execution_count": null,
   "metadata": {},
   "outputs": [],
   "source": [
    "\n",
    "df_ses1.groupby('group').describe(percentiles=[.025, 0.975])"
   ]
  },
  {
   "cell_type": "code",
   "execution_count": null,
   "metadata": {},
   "outputs": [],
   "source": [
    "df_ses1"
   ]
  },
  {
   "cell_type": "code",
   "execution_count": null,
   "metadata": {},
   "outputs": [],
   "source": [
    "df_ses1 = pd.merge(df, df_ses1)\n",
    "df_ses1['amg_change'] = df_ses1.meanAct - df_ses1.amg1"
   ]
  },
  {
   "cell_type": "code",
   "execution_count": null,
   "metadata": {},
   "outputs": [],
   "source": [
    "# this is in case we need to show the lowering of amygdala reactivation before and after treatment\n",
    "sns.boxplot(y='amg1', x= 'group', data = df_ses1)\n",
    "sns.stripplot(y='amg1', x= 'group', data = df_ses1)"
   ]
  },
  {
   "cell_type": "code",
   "execution_count": null,
   "metadata": {},
   "outputs": [],
   "source": [
    "df_ses3 = pd.merge(df, df_ses3)\n",
    "df_ses3"
   ]
  },
  {
   "cell_type": "code",
   "execution_count": null,
   "metadata": {},
   "outputs": [],
   "source": [
    "sns.barplot(x='group',y='amg3', data=df_ses3, ci=95)\n",
    "#sns.boxplot(x='group',y='meanAct', data=df)\n",
    "scipy.stats.ttest_ind(df_ses3.amg3[df_ses3['group']=='ketamine'], \n",
    "                      df_ses3['amg3'][df_ses3['group']=='midazolam'])"
   ]
  },
  {
   "cell_type": "code",
   "execution_count": null,
   "metadata": {},
   "outputs": [],
   "source": [
    "df_ses1 = []\n",
    "df_ses1 = pd.DataFrame({'scr_id': scr_id, 'meanAct_ses1': average[0]})\n",
    "df_ses1 = pd.merge(medication_cond, df_ses1)\n",
    "df_ses1 = df_ses1.rename(columns={'med_cond': 'group'})\n",
    "#df['group'] = medication_cond['med_cond']\n",
    "df_ses1 = df_ses1.replace(to_replace={'group': {0.0:'midazolam', 1.0:'ketamine'}})"
   ]
  },
  {
   "cell_type": "code",
   "execution_count": null,
   "metadata": {},
   "outputs": [],
   "source": [
    "group = {'ketamine': 1,'midazolam': 0} \n",
    "df_ses3['groupIdx'] =[group[item] for item in df_ses3.group] "
   ]
  },
  {
   "cell_type": "code",
   "execution_count": null,
   "metadata": {},
   "outputs": [],
   "source": [
    "df = []\n",
    "df = pd.DataFrame({'scr_id': scr_id, 'meanAct': t_arr})\n",
    "df = pd.merge(medication_cond, df)\n",
    "df = df.rename(columns={'med_cond': 'group'})\n",
    "#df['group'] = medication_cond['med_cond']\n",
    "df = df.replace(to_replace={'group': {0.0:'midazolam', 1.0:'ketamine'}})"
   ]
  },
  {
   "cell_type": "markdown",
   "metadata": {},
   "source": [
    "## Combine all three sessions"
   ]
  },
  {
   "cell_type": "code",
   "execution_count": null,
   "metadata": {},
   "outputs": [],
   "source": [
    "df = pd.merge(df_ses1, df_ses2, how='left')\n",
    "df = pd.merge(df, df_ses3, how='left') # adding that to avoid removing Nan subjects\n",
    "# add index for group (0 and 1)\n",
    "group = {'ketamine': 1,'midazolam': 0} \n",
    "df['groupIdx'] =[group[item] for item in df.group] \n",
    "# save the dataframe\n",
    "df.to_csv('threeSessions_amg_TraumavsRelax.csv', index = False)"
   ]
  },
  {
   "cell_type": "code",
   "execution_count": null,
   "metadata": {},
   "outputs": [],
   "source": [
    "df.groupby(['group']).describe()"
   ]
  },
  {
   "cell_type": "code",
   "execution_count": null,
   "metadata": {},
   "outputs": [],
   "source": [
    "# plot\n",
    "sns.barplot(x='group',y='amg2', data=df, ci=95)\n",
    "#sns.boxplot(x='group',y='meanAct', data=df)\n",
    "scipy.stats.ttest_ind(df.amg2[df['group']==1], df['amg2'][df['group']==0])"
   ]
  },
  {
   "cell_type": "code",
   "execution_count": null,
   "metadata": {},
   "outputs": [],
   "source": [
    "# test changes betwen sessions\n",
    "df2ses = pd.merge(df, df_ses1)\n",
    "df2ses['amg2_1'] = df2ses.meanAct - df2ses.meanAct_ses1\n"
   ]
  },
  {
   "cell_type": "code",
   "execution_count": null,
   "metadata": {},
   "outputs": [],
   "source": [
    "sns.barplot(x='group',y='amg2_1', data=df2ses, ci=68)\n",
    "#sns.boxplot(x='group',y='meanAct', data=df)\n",
    "scipy.stats.ttest_ind(df2ses.amg2_1[df2ses['group']=='ketamine'], \n",
    "                      df2ses['amg2_1'][df2ses['group']=='midazolam'])"
   ]
  },
  {
   "cell_type": "markdown",
   "metadata": {},
   "source": [
    "## Use PyMC3 for bayesian based analysis "
   ]
  },
  {
   "cell_type": "code",
   "execution_count": null,
   "metadata": {},
   "outputs": [],
   "source": [
    "# first code new variable for group index (1=ketamine, 0= midazolam)\n",
    "group = {'ketamine': 1,'midazolam': 0} \n",
    "df['groupIdx'] =[group[item] for item in df.group] "
   ]
  },
  {
   "cell_type": "code",
   "execution_count": null,
   "metadata": {},
   "outputs": [],
   "source": [
    "# Full model\n",
    "with pm.Model() as model_1:\n",
    "    # Data\n",
    "    group = pm.Data('group', df.groupIdx)\n",
    "    amg = pm.Data('amg', df.meanAct)\n",
    "    #ketamine = pm.Data('ketamine', df.meanAct[df['group']=='ketamine'].values)\n",
    "    #midazolam = pm.Data('midazolam', df.meanAct[df['group']=='midazolam'].values)\n",
    "    \n",
    "    # Priors\n",
    "    alpha = pm.Normal('alpha', mu=5, sd=5)\n",
    "    beta = pm.Normal('beta', mu=-5, sd=5)\n",
    "    sigma = pm.HalfNormal('sigma', sigma=5)\n",
    "    \n",
    "    # Regression\n",
    "    mu = alpha + beta * group\n",
    "    diff_group = pm.Normal('diff_group', mu=mu, sd=sigma, observed=amg)\n",
    "    \n",
    "    # Prior sampling, trace definition and posterior sampling\n",
    "    prior = pm.sample_prior_predictive()\n",
    "    posterior_1 = pm.sample(draws=4000, tune=4000) # this is the trace sampling\n",
    "   # posterior_pred_1 = pm.sample_posterior_predictive(posterior_1)"
   ]
  },
  {
   "cell_type": "code",
   "execution_count": null,
   "metadata": {},
   "outputs": [],
   "source": [
    "#az.summary(posterior_1, credible_interval=.95).round(2) # adding round to make shorted floats\n",
    "pm.summary(posterior_1, hdi_prob=0.95)#, alpha=.05).round(2)# also possible"
   ]
  },
  {
   "cell_type": "code",
   "execution_count": null,
   "metadata": {},
   "outputs": [],
   "source": [
    "# play with glm module of pymc3\n",
    "with pm.Model() as model_glm:\n",
    "    GLM.from_formula('amg3 ~ groupIdx', df_ses3)\n",
    "    trace = pm.sample(draws=5000, tune=3000)"
   ]
  },
  {
   "cell_type": "code",
   "execution_count": null,
   "metadata": {},
   "outputs": [],
   "source": [
    "pm.summary(trace, hdi_prob=.95).round(2)"
   ]
  },
  {
   "cell_type": "code",
   "execution_count": null,
   "metadata": {},
   "outputs": [],
   "source": [
    "pm.plot_posterior(trace['groupIdx'])"
   ]
  },
  {
   "cell_type": "code",
   "execution_count": null,
   "metadata": {},
   "outputs": [],
   "source": [
    "sns.distplot(trace.groupIdx)\n",
    "sum(trace['groupIdx']>0) / len(trace['groupIdx'])"
   ]
  },
  {
   "cell_type": "code",
   "execution_count": null,
   "metadata": {},
   "outputs": [],
   "source": [
    "# set variables\n",
    "sns.set_style(\"ticks\") # set style\n",
    "y = 'meanAct'\n",
    "dfPlot = df\n",
    "ci = np.quantile(trace.groupIdx, [.025,.975])\n",
    "fig, (ax1, ax2) = plt.subplots(1,2, figsize=(3, 5),gridspec_kw={'width_ratios': [1, .2],\n",
    "                                                        'wspace':.1})\n",
    "g1 = sns.stripplot(y= y, x='group', data=dfPlot, size = 8, ax=ax1)\n",
    "sns.boxplot(y= y, x='group', data=dfPlot,  ax=ax1,\n",
    "            boxprops=dict(alpha=.3))\n",
    "g2 = sns.distplot(trace['groupIdx'], ax = ax2, vertical=True)\n",
    "ax2.vlines(x=0.001,ymin=ci[0], ymax=ci[1], color='black', \n",
    "           linewidth = 2, linestyle = \"-\")\n",
    "\n",
    "#g3.set_ylim(-.7, .7)\n",
    "#ax1.set_ylim(-.7,.7)\n",
    "ax2.set_ylim(g1.get_ylim()) # use first graph's limits to get the relevant for this one\n",
    "ax2.yaxis.tick_right()\n",
    "ax2.set_xticks([])\n",
    "ax2.set_ylabel(\"Difference between groups\", fontsize=14) \n",
    "ax2.yaxis.set_label_position(\"right\")\n",
    "ax1.set_ylabel(\"Amg reactivity to traumatic script\", fontsize=12)\n",
    "ax1.set_xlabel(\"Group\", fontsize=14)\n",
    "fig.savefig('amygdalaReactivity.png', dpi=600, bbox_inches='tight')"
   ]
  },
  {
   "cell_type": "markdown",
   "metadata": {},
   "source": [
    "### Creating mixed level model"
   ]
  },
  {
   "cell_type": "code",
   "execution_count": null,
   "metadata": {},
   "outputs": [],
   "source": [
    "df_long = pd.melt(df, id_vars=['scr_id','groupIdx'], value_vars=['amg1','amg2','amg3'])\n",
    "df_long.to_csv('amygdala.csv', index=False)"
   ]
  },
  {
   "cell_type": "code",
   "execution_count": null,
   "metadata": {},
   "outputs": [],
   "source": [
    "with pm.Model() as model_glm1:\n",
    "    GLM.from_formula('value ~ groupIdx + variable', df_long)\n",
    "    trace_mixed = pm.sample(draws=2000, tune=2000)"
   ]
  },
  {
   "cell_type": "code",
   "execution_count": null,
   "metadata": {},
   "outputs": [],
   "source": [
    "pm.summary(trace_mixed)"
   ]
  },
  {
   "cell_type": "markdown",
   "metadata": {},
   "source": [
    "#### There is a main effect for the group (ketamine lower than midazolam)"
   ]
  },
  {
   "cell_type": "markdown",
   "metadata": {},
   "source": [
    "## Next we do the same for vmPFC"
   ]
  },
  {
   "cell_type": "code",
   "execution_count": null,
   "metadata": {},
   "outputs": [],
   "source": [
    "# now lets do the same with vmPFC\n",
    "mask_file = '/gpfs/gibbs/pi/levy_ifat/Or/ROI/vmpfc_association-test_z_FDR_0.01.nii.gz'\n",
    "mask_file = nilearn.image.math_img(\"a>=5\", a=mask_file)\n",
    "%matplotlib inline\n",
    "nilearn.plotting.plot_roi(mask_file)\n",
    "masker = nilearn.input_data.NiftiMasker(mask_img=mask_file, \n",
    "                               sessions=None, smoothing_fwhm=None,\n",
    "                                        standardize=False, detrend=False, verbose=5)"
   ]
  },
  {
   "cell_type": "code",
   "execution_count": null,
   "metadata": {},
   "outputs": [],
   "source": [
    "mean_act_vmpfc = []\n",
    "scr_id = []\n",
    "for func in func_files:\n",
    "    # get subject number\n",
    "    scr_id.append('KPE' + func.split('id_')[1].split('/')[0])\n",
    "    # get average activation\n",
    "    t_map = masker.fit_transform(func)\n",
    "    \n",
    "    average = np.mean(np.array(t_map))\n",
    "    mean_act_vmpfc.append(average)\n"
   ]
  },
  {
   "cell_type": "code",
   "execution_count": null,
   "metadata": {},
   "outputs": [],
   "source": [
    "df[\"vmpfc\"] = mean_act_vmpfc\n",
    "#df_vmpfc = pd.DataFrame({'scr_id': scr_id, 'vmpfc': mean_act_vmpfc})\n",
    "#df_vmpfc = pd.merge(df_vmpfc, medication_cond)\n",
    "sns.boxplot(x='group',y='vmpfc', data=df)\n",
    "#sns.barplot(x='med_cond',y='meanAct', data=df_vmpfc, ci=68)\n",
    "scipy.stats.ttest_ind(df.vmpfc[df['group']=='ketamine'],\n",
    "                      df.vmpfc[df['group']=='midazolam'])"
   ]
  },
  {
   "cell_type": "code",
   "execution_count": null,
   "metadata": {},
   "outputs": [],
   "source": [
    "df_vmpfc"
   ]
  },
  {
   "cell_type": "code",
   "execution_count": null,
   "metadata": {},
   "outputs": [],
   "source": [
    "with pm.Model() as model_glm:\n",
    "    GLM.from_formula('vmPFC ~ groupIdx', df)\n",
    "    trace_vmpfc = pm.sample(draws=4000, tune=3000)"
   ]
  },
  {
   "cell_type": "code",
   "execution_count": null,
   "metadata": {},
   "outputs": [],
   "source": [
    "pm.summary(trace_vmpfc, credible_interval=.95).round(2)"
   ]
  },
  {
   "cell_type": "code",
   "execution_count": null,
   "metadata": {},
   "outputs": [],
   "source": [
    "## Hippocampus\n",
    "mask_file = '/gpfs/gibbs/pi/levy_ifat/Or/ROI/hippocampus_association-test_z_FDR_0.01.nii.gz'\n",
    "mask_file = nilearn.image.math_img(\"a>=15\", a=mask_file)\n",
    "%matplotlib inline\n",
    "nilearn.plotting.plot_roi(mask_file)\n",
    "masker = nilearn.input_data.NiftiMasker(mask_img=mask_file, \n",
    "                               sessions=None, smoothing_fwhm=None,\n",
    "                                        standardize=False, detrend=False, verbose=5)"
   ]
  },
  {
   "cell_type": "code",
   "execution_count": null,
   "metadata": {},
   "outputs": [],
   "source": [
    "mean_act_hippo = []\n",
    "scr_id = []\n",
    "for func in func_files:\n",
    "    # get subject number\n",
    "    scr_id.append('KPE' + func.split('id_')[1].split('/')[0])\n",
    "    # get average activation\n",
    "    t_map = masker.fit_transform(func)\n",
    "    \n",
    "    average = np.mean(np.array(t_map))\n",
    "    mean_act_hippo.append(average)\n"
   ]
  },
  {
   "cell_type": "code",
   "execution_count": null,
   "metadata": {},
   "outputs": [],
   "source": [
    "df_ses3['hippo3'] = mean_act_hippo"
   ]
  },
  {
   "cell_type": "code",
   "execution_count": null,
   "metadata": {},
   "outputs": [],
   "source": [
    "df_ses3.groupby('group').describe()"
   ]
  },
  {
   "cell_type": "code",
   "execution_count": null,
   "metadata": {},
   "outputs": [],
   "source": []
  },
  {
   "cell_type": "code",
   "execution_count": null,
   "metadata": {},
   "outputs": [],
   "source": [
    "sns.barplot(x='group',y='hippo3', data=df_ses3, ci=95)\n",
    "scipy.stats.ttest_ind(df_ses3.hippo3[df_ses3['group']=='ketamine'],\n",
    "                      df_ses3['hippo3'][df_ses3['group']=='midazolam'])"
   ]
  },
  {
   "cell_type": "code",
   "execution_count": null,
   "metadata": {},
   "outputs": [],
   "source": [
    "df['hippo_21'] = df.hippo2 - df.hippo1\n",
    "sns.barplot(x='group',y='hippo_21', data=df, ci=68)\n",
    "scipy.stats.ttest_ind(df.hippo_21[df['group']=='ketamine'], df['hippo_21'][df['group']=='midazolam'])"
   ]
  },
  {
   "cell_type": "code",
   "execution_count": null,
   "metadata": {},
   "outputs": [],
   "source": [
    "with pm.Model() as model_glm:\n",
    "    GLM.from_formula('hippo3 ~ groupIdx', df_ses3)\n",
    "    trace_hippo = pm.sample(draws=2000, tune=2000,random_seed=113)\n",
    "pm.summary(trace_hippo, hdi_prob=.95).round(2)"
   ]
  },
  {
   "cell_type": "code",
   "execution_count": null,
   "metadata": {},
   "outputs": [],
   "source": [
    "# set variables\n",
    "sns.set_style(\"ticks\")\n",
    "y = 'hippo'\n",
    "dfPlot = df\n",
    "ci = np.quantile(trace_hippo.groupIdx, [.025,.975])\n",
    "fig, (ax1, ax2) = plt.subplots(1,2, figsize=(3, 5),gridspec_kw={'width_ratios': [1, .2],\n",
    "                                                        'wspace':.1})\n",
    "g1 = sns.stripplot(y= y, x='group', data=dfPlot, size = 8, ax=ax1)\n",
    "sns.boxplot(y= y, x='group', data=dfPlot,  ax=ax1,\n",
    "            boxprops=dict(alpha=.3))\n",
    "g2 = sns.distplot(trace_hippo['groupIdx'], ax = ax2, vertical=True)\n",
    "ax2.vlines(x=0.001,ymin=ci[0], ymax=ci[1], color='black', \n",
    "           linewidth = 2, linestyle = \"-\")\n",
    "\n",
    "\n",
    "ax2.set_ylim(g1.get_ylim()) # use first graph's limits to get the relevant for this one\n",
    "ax2.yaxis.tick_right()\n",
    "ax2.set_xticks([])\n",
    "ax2.set_ylabel(\"Difference between groups\", fontsize=14) \n",
    "ax2.yaxis.set_label_position(\"right\")\n",
    "ax1.set_ylabel(\"Hippocampus reactivity to traumatic script\", fontsize=12)\n",
    "ax1.set_xlabel(\"Group\", fontsize=14)\n",
    "fig.savefig('hippoReactivity.png', dpi=600, bbox_inches='tight')"
   ]
  },
  {
   "cell_type": "code",
   "execution_count": null,
   "metadata": {},
   "outputs": [],
   "source": [
    "df.groupby('group').describe()"
   ]
  }
 ],
 "metadata": {
  "kernelspec": {
   "display_name": "Python 3",
   "language": "python",
   "name": "python3"
  },
  "language_info": {
   "codemirror_mode": {
    "name": "ipython",
    "version": 3
   },
   "file_extension": ".py",
   "mimetype": "text/x-python",
   "name": "python",
   "nbconvert_exporter": "python",
   "pygments_lexer": "ipython3",
   "version": "3.7.7"
  }
 },
 "nbformat": 4,
 "nbformat_minor": 4
}
