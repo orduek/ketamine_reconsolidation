{
 "cells": [
  {
   "cell_type": "code",
   "execution_count": 1,
   "metadata": {},
   "outputs": [
    {
     "ename": "ModuleNotFoundError",
     "evalue": "No module named 'graphviz'",
     "output_type": "error",
     "traceback": [
      "\u001b[0;31m---------------------------------------------------------------------------\u001b[0m",
      "\u001b[0;31mModuleNotFoundError\u001b[0m                       Traceback (most recent call last)",
      "\u001b[0;32m<ipython-input-1-b94645d457e3>\u001b[0m in \u001b[0;36m<module>\u001b[0;34m\u001b[0m\n\u001b[0;32m----> 1\u001b[0;31m \u001b[0;32mfrom\u001b[0m \u001b[0mgraphviz\u001b[0m \u001b[0;32mimport\u001b[0m \u001b[0mDigraph\u001b[0m\u001b[0;34m\u001b[0m\u001b[0;34m\u001b[0m\u001b[0m\n\u001b[0m",
      "\u001b[0;31mModuleNotFoundError\u001b[0m: No module named 'graphviz'"
     ]
    }
   ],
   "source": [
    "from graphviz import Digraph"
   ]
  },
  {
   "cell_type": "code",
   "execution_count": null,
   "metadata": {},
   "outputs": [],
   "source": [
    "dot = Digraph(comment='KPE CONSORT', node_attr={'shape': 'rectangle', 'fillcolor' :'#8ae6f0', 'style':'rounded, filled'})"
   ]
  },
  {
   "cell_type": "code",
   "execution_count": null,
   "metadata": {},
   "outputs": [],
   "source": [
    "dot.node('A', 'Total Screened\\n N=125')\n",
    "dot.node('B', 'Not Eligible\\n N=95')\n",
    "dot.node('C', 'Total Eligible\\n N=30')\n",
    "dot.node('D','Total Randomized\\n N=28')\n",
    "dot.node('E', 'Ketamine N=14')\n",
    "#dot.node('F', '1 Ketamine excluded')\n",
    "dot.node('G', 'Midazolam N=13')\n",
    "dot.node('H', 'Participated in 1st visit\\n N=13')\n",
    "dot.node('I', 'Participated in 2nd visit\\n N=13')\n",
    "dot.node('J', 'Participated in 3rd visit\\n N=12')\n",
    "#dot.node('K', 'Participated in 4th visit\\n N=9')\n",
    "dot.node('L', 'Participated in 1st visit\\n N=13')\n",
    "dot.node('M', 'Participated in 2nd visit\\n N=12')\n",
    "dot.node('N', 'Participated in 3rd visit\\n N=10')\n",
    "#dot.node('O', 'Participated in 4th visit\\n N=9')\n",
    "#dot.edges(['AB','AC', 'CD', 'DE','DG','EF', 'FH','GH','HI','IJ','JK'])\n",
    "#dot.edge('D','E', minlen='2')\n",
    "dot.edge('D','G', minlen='2')\n",
    "dot.edge('E','H', headlabel='One excluded\\l', labeldistance='4', labelangle='80') # this should be adjusted\n",
    "dot.edge('D','E', headlabel='One excluded\\l',minlen='2', labeldistance='4', labelangle='80')\n",
    "dot.edges(['AB','AC', 'CD', 'HI','IJ', 'GL','LM','MN'])"
   ]
  },
  {
   "cell_type": "code",
   "execution_count": null,
   "metadata": {},
   "outputs": [],
   "source": [
    "dot.render('CONSORT', view=True) "
   ]
  },
  {
   "cell_type": "code",
   "execution_count": null,
   "metadata": {},
   "outputs": [],
   "source": []
  }
 ],
 "metadata": {
  "kernelspec": {
   "display_name": "Python 3",
   "language": "python",
   "name": "python3"
  },
  "language_info": {
   "codemirror_mode": {
    "name": "ipython",
    "version": 3
   },
   "file_extension": ".py",
   "mimetype": "text/x-python",
   "name": "python",
   "nbconvert_exporter": "python",
   "pygments_lexer": "ipython3",
   "version": "3.7.10"
  }
 },
 "nbformat": 4,
 "nbformat_minor": 4
}
