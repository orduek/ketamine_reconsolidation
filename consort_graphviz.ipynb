{
 "cells": [
  {
   "cell_type": "code",
   "execution_count": 1,
   "metadata": {},
   "outputs": [],
   "source": [
    "from graphviz import Digraph ##8ae6f0"
   ]
  },
  {
   "cell_type": "code",
   "execution_count": 164,
   "metadata": {},
   "outputs": [],
   "source": [
    "dot = Digraph(comment='KPE CONSORT', node_attr={'shape': 'rectangle', 'fillcolor' :'lightblue', 'style':'rounded, filled'})"
   ]
  },
  {
   "cell_type": "code",
   "execution_count": 165,
   "metadata": {},
   "outputs": [],
   "source": [
    "dot.node('A', 'Total Screened\\n N=125')\n",
    "dot.node('C', 'Total Eligible\\n N=30')\n",
    "dot.node('B', 'Not Eligible\\n N=95')\n",
    "dot.node('D','Total Randomized\\n N=28')\n",
    "dot.node('E', 'Ketamine N=14')\n",
    "#dot.node('F', '1 Ketamine excluded')\n",
    "dot.node('G', 'Midazolam N=14')\n",
    "dot.node('H', 'Participated in 1st visit\\n N=14')\n",
    "dot.node('I', 'Participated in 2nd visit\\n N=14')\n",
    "dot.node('J', 'Participated in 3rd visit\\n N=12')\n",
    "#dot.node('K', 'Participated in 4th visit\\n N=9')\n",
    "dot.node('L', 'Participated in 1st visit\\n N=14')\n",
    "dot.node('M', 'Participated in 2nd visit\\n N=12')\n",
    "dot.node('N', 'Participated in 3rd visit\\n N=10')\n",
    "#dot.node('O', 'Participated in 4th visit\\n N=9')\n",
    "#dot.edges(['AB','AC', 'CD', 'DE','DG','EF', 'FH','GH','HI','IJ','JK'])\n",
    "#dot.edge('D','E', minlen='2')\n",
    "#dot.edge('D','G', minlen='2')\n",
    "#dot.edge('E','H', headlabel='One excluded\\l', labeldistance='4', labelangle='80')\n",
    "dot.edge('L','M', headlabel='patient dropped out of treatment\\l',len='2', fontsize=\"8pt\", labelangle='280',\n",
    "        labeldistance='10')\n",
    "       # fontsize=\"8pt\")\n",
    "dot.edges(['AC','AB', 'CD','DE','DG','EH','HI','IJ', 'GL','MN'])"
   ]
  },
  {
   "cell_type": "code",
   "execution_count": 166,
   "metadata": {},
   "outputs": [
    {
     "data": {
      "text/plain": [
       "'CONSORT.pdf'"
      ]
     },
     "execution_count": 166,
     "metadata": {},
     "output_type": "execute_result"
    },
    {
     "name": "stdout",
     "output_type": "stream",
     "text": [
      "START /bin/evince \"CONSORT.pdf\"\n"
     ]
    },
    {
     "name": "stderr",
     "output_type": "stream",
     "text": [
      "Cannot parse arguments: Cannot open display: \n"
     ]
    }
   ],
   "source": [
    "dot.render('CONSORT', view=True) "
   ]
  },
  {
   "cell_type": "code",
   "execution_count": null,
   "metadata": {},
   "outputs": [],
   "source": []
  }
 ],
 "metadata": {
  "kernelspec": {
   "display_name": "Python 3 (ipykernel)",
   "language": "python",
   "name": "python3"
  },
  "language_info": {
   "codemirror_mode": {
    "name": "ipython",
    "version": 3
   },
   "file_extension": ".py",
   "mimetype": "text/x-python",
   "name": "python",
   "nbconvert_exporter": "python",
   "pygments_lexer": "ipython3",
   "version": "3.9.7"
  }
 },
 "nbformat": 4,
 "nbformat_minor": 4
}
